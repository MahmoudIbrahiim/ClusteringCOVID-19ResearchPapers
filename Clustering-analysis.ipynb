{
 "cells": [
  {
   "cell_type": "markdown",
   "metadata": {},
   "source": [
    "# Project 4 : Clustering analysis on Open Research Dataset CORD 19"
   ]
  },
  {
   "cell_type": "markdown",
   "metadata": {},
   "source": [
    "## Overview\n",
    "In response to the COVID-19 pandemic, the White House and a coalition of leading research groups\n",
    "have prepared the COVID-19 Open Research Dataset (CORD-19). CORD-19 is a resource of over\n",
    "57,000 scholarly articles, including over 45,000 with full text, about COVID-19, SARS-CoV-2, and\n",
    "related coronaviruses. This freely available dataset is provided to the global research community. As\n",
    "a big data community, how can we help researchers to easily find the related research papers\n",
    "easily?\n",
    "\n",
    "You can find the dataset and the main challenge on kaggle\n",
    "\n",
    "https://www.kaggle.com/allen-institute-for-ai/CORD-19-research-challenge"
   ]
  },
  {
   "cell_type": "markdown",
   "metadata": {},
   "source": [
    "## Goals\n",
    "Given the large number of literature and the rapid spread of COVID-19, it is difficult for health\n",
    "professionals to keep up with new information on the virus. Can clustering similar research articles\n",
    "together simplify the search for related publications? How can the content of the clusters be\n",
    "qualified? And over each cluster how can we recommend the most similar papers leveraging\n",
    "clustering?"
   ]
  },
  {
   "cell_type": "markdown",
   "metadata": {},
   "source": [
    "## Requirements\n",
    "you are required to find out the best way to cluster the research papers using the research\n",
    "papers details in the JSON file with the metadata in the CSV file, then you should build a\n",
    "neighborhood recommender system to receive the title of research paper and recommend\n",
    "the most N similar papers to it based on its cluster. So you should find a way to represent\n",
    "the papers in vectors and cluster them then build a neighbourhood recommender system\n",
    "on the clusters."
   ]
  },
  {
   "cell_type": "markdown",
   "metadata": {},
   "source": [
    "### Required Steps\n",
    "\n",
    "#### 1. Read the dataset using spark:\n",
    "The dataset is 8GB so we don’t expect you can manage the whole entire dataset on your local machine.\n",
    "\n",
    "#### 2. Do exploratory data analysis:\n",
    "Do the EDA to understand your data and extract insights help you in feature\n",
    "engineering ,Document your insights\n",
    "\n",
    "#### 3. Preparation and Cleaning the data:\n",
    "- Joining the json file with the metadata in the csv file\n",
    "- Handling Nulls.\n",
    "- Handling Duplications.\n",
    "- Keep Only the english documents\n",
    "\n",
    "#### 4. Preprocessing:\n",
    "Our main goal is to clean and preprocess the txt to prepare it to represent it in\n",
    "vectors. It is a mandatory step in NLP projects to preprocess the text. You can have\n",
    "a look in this article to explore some of well known preprocessing steps\n",
    "\n",
    "https://towardsdatascience.com/nlp-text-preprocessing-a-practical-guide-and-template-d80874676e79\n",
    "\n",
    "##### Required preprocessing\n",
    "1. Remove stop words.\n",
    "\n",
    "2. Remove custom stop words, Research papers will often frequently use words that don't actually contribute to the meaning and are not considered everyday stopwords and should be removed to enhance the accuracy.\n",
    "        custom_stop_words = [ 'doi', 'preprint', 'copyright', 'peer', 'reviewed', 'org', 'https', 'et', 'al', 'author', 'figure','rights', 'reserved', 'permission', 'used', 'using', 'biorxiv', 'medrxiv', 'license', 'fig', 'fig.', 'al.', Elsevier', 'PMC', 'CZI', 'www']\n",
    "\n",
    "\n",
    "3. Remove Punctuation, use this Regex\n",
    "\n",
    "        '!()-[]{};:'\"\\,<>./?@#$%^&*_~'\n",
    "\n",
    "\n",
    "4. convert text to lower case.\n",
    "\n",
    "\n",
    "#### 5. Vectorization:\n",
    "convert the data into a format that can be handled by our algorithms. For this purpose we can use *Word2vec*.\n",
    "\n",
    "#### 6. Clustering\n",
    "Apply clustering algorithm on the data. You can use *PCA* to reduce the dimensions while still keeping *95\\%* variance for better performance and hopefully remove some noise/outliers.\n",
    "\n",
    "#### 7. Clustering Evaluation\n",
    "Use ClusteringEvaluator to evaluate the clusters using silhouette and choose the best k you decide from the *elbow* method.\n",
    "\n",
    "#### 8. Recommender system\n",
    "Build a very basic recommender system:\n",
    "- Create a function with the signature *recommendPaper(paper_title,N)* where N is the number of recommended papers in the list and it returns the recommendation list.\n",
    "- Recommend top N recommendation list based on the most similar(*cosine similarity*) papers to it with respect to the cluster it belongs."
   ]
  },
  {
   "cell_type": "code",
   "execution_count": null,
   "metadata": {},
   "outputs": [],
   "source": []
  },
  {
   "cell_type": "code",
   "execution_count": null,
   "metadata": {},
   "outputs": [],
   "source": []
  },
  {
   "cell_type": "markdown",
   "metadata": {},
   "source": [
    "## Install required packages:"
   ]
  },
  {
   "cell_type": "code",
   "execution_count": 1,
   "metadata": {},
   "outputs": [],
   "source": [
    "# !sudo pip3 install langdetect"
   ]
  },
  {
   "cell_type": "markdown",
   "metadata": {},
   "source": [
    "## Import required packages:"
   ]
  },
  {
   "cell_type": "code",
   "execution_count": 1,
   "metadata": {},
   "outputs": [],
   "source": [
    "from pyspark.sql import SparkSession\n",
    "from pyspark.sql.types import *\n",
    "from pyspark.sql.functions import *\n",
    "from pyspark.ml.feature import *\n",
    "from pyspark.ml.clustering import KMeans\n",
    "from pyspark.ml.evaluation import ClusteringEvaluator\n",
    "from pyspark.ml import Pipeline\n",
    "from langdetect import detect\n",
    "import numpy as np\n",
    "import pandas as pd \n",
    "import pylab as pl"
   ]
  },
  {
   "cell_type": "markdown",
   "metadata": {},
   "source": [
    "## Create Spark session"
   ]
  },
  {
   "cell_type": "code",
   "execution_count": 2,
   "metadata": {},
   "outputs": [],
   "source": [
    "spark = SparkSession \\\n",
    "    .builder \\\n",
    "    .appName('CORD-19 Clustering') \\\n",
    "    .getOrCreate()"
   ]
  },
  {
   "cell_type": "code",
   "execution_count": null,
   "metadata": {},
   "outputs": [],
   "source": []
  },
  {
   "cell_type": "code",
   "execution_count": null,
   "metadata": {},
   "outputs": [],
   "source": []
  },
  {
   "cell_type": "code",
   "execution_count": null,
   "metadata": {},
   "outputs": [],
   "source": []
  },
  {
   "cell_type": "markdown",
   "metadata": {},
   "source": [
    "## 1. Read the dataset using spark\n",
    "### Read metadata"
   ]
  },
  {
   "cell_type": "code",
   "execution_count": 5,
   "metadata": {},
   "outputs": [],
   "source": [
    "metadata = spark.read\\\n",
    "                .format('csv')\\\n",
    "                .option('header', 'true')\\\n",
    "                .option('inferSchema', 'true')\\\n",
    "                .load('./all_data/metadata.csv')"
   ]
  },
  {
   "cell_type": "code",
   "execution_count": 7,
   "metadata": {},
   "outputs": [],
   "source": [
    "metadata = metadata.withColumn('publish_time', metadata.publish_time.cast(DateType()))"
   ]
  },
  {
   "cell_type": "code",
   "execution_count": 8,
   "metadata": {},
   "outputs": [
    {
     "name": "stdout",
     "output_type": "stream",
     "text": [
      "root\n",
      " |-- cord_uid: string (nullable = true)\n",
      " |-- sha: string (nullable = true)\n",
      " |-- source_x: string (nullable = true)\n",
      " |-- title: string (nullable = true)\n",
      " |-- doi: string (nullable = true)\n",
      " |-- pmcid: string (nullable = true)\n",
      " |-- pubmed_id: string (nullable = true)\n",
      " |-- license: string (nullable = true)\n",
      " |-- abstract: string (nullable = true)\n",
      " |-- publish_time: date (nullable = true)\n",
      " |-- authors: string (nullable = true)\n",
      " |-- journal: string (nullable = true)\n",
      " |-- mag_id: string (nullable = true)\n",
      " |-- who_covidence_id: string (nullable = true)\n",
      " |-- arxiv_id: string (nullable = true)\n",
      " |-- pdf_json_files: string (nullable = true)\n",
      " |-- pmc_json_files: string (nullable = true)\n",
      " |-- url: string (nullable = true)\n",
      " |-- s2_id: string (nullable = true)\n",
      "\n"
     ]
    }
   ],
   "source": [
    "metadata.printSchema()"
   ]
  },
  {
   "cell_type": "code",
   "execution_count": 9,
   "metadata": {},
   "outputs": [
    {
     "data": {
      "text/html": [
       "<div>\n",
       "<style scoped>\n",
       "    .dataframe tbody tr th:only-of-type {\n",
       "        vertical-align: middle;\n",
       "    }\n",
       "\n",
       "    .dataframe tbody tr th {\n",
       "        vertical-align: top;\n",
       "    }\n",
       "\n",
       "    .dataframe thead th {\n",
       "        text-align: right;\n",
       "    }\n",
       "</style>\n",
       "<table border=\"1\" class=\"dataframe\">\n",
       "  <thead>\n",
       "    <tr style=\"text-align: right;\">\n",
       "      <th></th>\n",
       "      <th>cord_uid</th>\n",
       "      <th>sha</th>\n",
       "      <th>source_x</th>\n",
       "      <th>title</th>\n",
       "      <th>doi</th>\n",
       "      <th>pmcid</th>\n",
       "      <th>pubmed_id</th>\n",
       "      <th>license</th>\n",
       "      <th>abstract</th>\n",
       "      <th>publish_time</th>\n",
       "      <th>authors</th>\n",
       "      <th>journal</th>\n",
       "      <th>mag_id</th>\n",
       "      <th>who_covidence_id</th>\n",
       "      <th>arxiv_id</th>\n",
       "      <th>pdf_json_files</th>\n",
       "      <th>pmc_json_files</th>\n",
       "      <th>url</th>\n",
       "      <th>s2_id</th>\n",
       "    </tr>\n",
       "  </thead>\n",
       "  <tbody>\n",
       "    <tr>\n",
       "      <th>0</th>\n",
       "      <td>ug7v899j</td>\n",
       "      <td>d1aafb70c066a2068b02786f8929fd9c900897fb</td>\n",
       "      <td>PMC</td>\n",
       "      <td>Clinical features of culture-proven Mycoplasma...</td>\n",
       "      <td>10.1186/1471-2334-1-6</td>\n",
       "      <td>PMC35282</td>\n",
       "      <td>11472636</td>\n",
       "      <td>no-cc</td>\n",
       "      <td>OBJECTIVE: This retrospective chart review des...</td>\n",
       "      <td>2001-07-04</td>\n",
       "      <td>Madani, Tariq A; Al-Ghamdi, Aisha A</td>\n",
       "      <td>BMC Infect Dis</td>\n",
       "      <td>None</td>\n",
       "      <td>None</td>\n",
       "      <td>None</td>\n",
       "      <td>document_parses/pdf_json/d1aafb70c066a2068b027...</td>\n",
       "      <td>document_parses/pmc_json/PMC35282.xml.json</td>\n",
       "      <td>https://www.ncbi.nlm.nih.gov/pmc/articles/PMC3...</td>\n",
       "      <td>None</td>\n",
       "    </tr>\n",
       "    <tr>\n",
       "      <th>1</th>\n",
       "      <td>02tnwd4m</td>\n",
       "      <td>6b0567729c2143a66d737eb0a2f63f2dce2e5a7d</td>\n",
       "      <td>PMC</td>\n",
       "      <td>Nitric oxide: a pro-inflammatory mediator in l...</td>\n",
       "      <td>10.1186/rr14</td>\n",
       "      <td>PMC59543</td>\n",
       "      <td>11667967</td>\n",
       "      <td>no-cc</td>\n",
       "      <td>Inflammatory diseases of the respiratory tract...</td>\n",
       "      <td>2000-08-15</td>\n",
       "      <td>Vliet, Albert van der; Eiserich, Jason P; Cros...</td>\n",
       "      <td>Respir Res</td>\n",
       "      <td>None</td>\n",
       "      <td>None</td>\n",
       "      <td>None</td>\n",
       "      <td>document_parses/pdf_json/6b0567729c2143a66d737...</td>\n",
       "      <td>document_parses/pmc_json/PMC59543.xml.json</td>\n",
       "      <td>https://www.ncbi.nlm.nih.gov/pmc/articles/PMC5...</td>\n",
       "      <td>None</td>\n",
       "    </tr>\n",
       "    <tr>\n",
       "      <th>2</th>\n",
       "      <td>ejv2xln0</td>\n",
       "      <td>06ced00a5fc04215949aa72528f2eeaae1d58927</td>\n",
       "      <td>PMC</td>\n",
       "      <td>Surfactant protein-D and pulmonary host defense</td>\n",
       "      <td>10.1186/rr19</td>\n",
       "      <td>PMC59549</td>\n",
       "      <td>11667972</td>\n",
       "      <td>no-cc</td>\n",
       "      <td>Surfactant protein-D (SP-D) participates in th...</td>\n",
       "      <td>2000-08-25</td>\n",
       "      <td>Crouch, Erika C</td>\n",
       "      <td>Respir Res</td>\n",
       "      <td>None</td>\n",
       "      <td>None</td>\n",
       "      <td>None</td>\n",
       "      <td>document_parses/pdf_json/06ced00a5fc04215949aa...</td>\n",
       "      <td>document_parses/pmc_json/PMC59549.xml.json</td>\n",
       "      <td>https://www.ncbi.nlm.nih.gov/pmc/articles/PMC5...</td>\n",
       "      <td>None</td>\n",
       "    </tr>\n",
       "    <tr>\n",
       "      <th>3</th>\n",
       "      <td>2b73a28n</td>\n",
       "      <td>348055649b6b8cf2b9a376498df9bf41f7123605</td>\n",
       "      <td>PMC</td>\n",
       "      <td>Role of endothelin-1 in lung disease</td>\n",
       "      <td>10.1186/rr44</td>\n",
       "      <td>PMC59574</td>\n",
       "      <td>11686871</td>\n",
       "      <td>no-cc</td>\n",
       "      <td>Endothelin-1 (ET-1) is a 21 amino acid peptide...</td>\n",
       "      <td>2001-02-22</td>\n",
       "      <td>Fagan, Karen A; McMurtry, Ivan F; Rodman, David M</td>\n",
       "      <td>Respir Res</td>\n",
       "      <td>None</td>\n",
       "      <td>None</td>\n",
       "      <td>None</td>\n",
       "      <td>document_parses/pdf_json/348055649b6b8cf2b9a37...</td>\n",
       "      <td>document_parses/pmc_json/PMC59574.xml.json</td>\n",
       "      <td>https://www.ncbi.nlm.nih.gov/pmc/articles/PMC5...</td>\n",
       "      <td>None</td>\n",
       "    </tr>\n",
       "    <tr>\n",
       "      <th>4</th>\n",
       "      <td>9785vg6d</td>\n",
       "      <td>5f48792a5fa08bed9f56016f4981ae2ca6031b32</td>\n",
       "      <td>PMC</td>\n",
       "      <td>Gene expression in epithelial cells in respons...</td>\n",
       "      <td>10.1186/rr61</td>\n",
       "      <td>PMC59580</td>\n",
       "      <td>11686888</td>\n",
       "      <td>no-cc</td>\n",
       "      <td>Respiratory syncytial virus (RSV) and pneumoni...</td>\n",
       "      <td>2001-05-11</td>\n",
       "      <td>Domachowske, Joseph B; Bonville, Cynthia A; Ro...</td>\n",
       "      <td>Respir Res</td>\n",
       "      <td>None</td>\n",
       "      <td>None</td>\n",
       "      <td>None</td>\n",
       "      <td>document_parses/pdf_json/5f48792a5fa08bed9f560...</td>\n",
       "      <td>document_parses/pmc_json/PMC59580.xml.json</td>\n",
       "      <td>https://www.ncbi.nlm.nih.gov/pmc/articles/PMC5...</td>\n",
       "      <td>None</td>\n",
       "    </tr>\n",
       "  </tbody>\n",
       "</table>\n",
       "</div>"
      ],
      "text/plain": [
       "   cord_uid                                       sha source_x  \\\n",
       "0  ug7v899j  d1aafb70c066a2068b02786f8929fd9c900897fb      PMC   \n",
       "1  02tnwd4m  6b0567729c2143a66d737eb0a2f63f2dce2e5a7d      PMC   \n",
       "2  ejv2xln0  06ced00a5fc04215949aa72528f2eeaae1d58927      PMC   \n",
       "3  2b73a28n  348055649b6b8cf2b9a376498df9bf41f7123605      PMC   \n",
       "4  9785vg6d  5f48792a5fa08bed9f56016f4981ae2ca6031b32      PMC   \n",
       "\n",
       "                                               title                    doi  \\\n",
       "0  Clinical features of culture-proven Mycoplasma...  10.1186/1471-2334-1-6   \n",
       "1  Nitric oxide: a pro-inflammatory mediator in l...           10.1186/rr14   \n",
       "2    Surfactant protein-D and pulmonary host defense           10.1186/rr19   \n",
       "3               Role of endothelin-1 in lung disease           10.1186/rr44   \n",
       "4  Gene expression in epithelial cells in respons...           10.1186/rr61   \n",
       "\n",
       "      pmcid pubmed_id license  \\\n",
       "0  PMC35282  11472636   no-cc   \n",
       "1  PMC59543  11667967   no-cc   \n",
       "2  PMC59549  11667972   no-cc   \n",
       "3  PMC59574  11686871   no-cc   \n",
       "4  PMC59580  11686888   no-cc   \n",
       "\n",
       "                                            abstract publish_time  \\\n",
       "0  OBJECTIVE: This retrospective chart review des...   2001-07-04   \n",
       "1  Inflammatory diseases of the respiratory tract...   2000-08-15   \n",
       "2  Surfactant protein-D (SP-D) participates in th...   2000-08-25   \n",
       "3  Endothelin-1 (ET-1) is a 21 amino acid peptide...   2001-02-22   \n",
       "4  Respiratory syncytial virus (RSV) and pneumoni...   2001-05-11   \n",
       "\n",
       "                                             authors         journal mag_id  \\\n",
       "0                Madani, Tariq A; Al-Ghamdi, Aisha A  BMC Infect Dis   None   \n",
       "1  Vliet, Albert van der; Eiserich, Jason P; Cros...      Respir Res   None   \n",
       "2                                    Crouch, Erika C      Respir Res   None   \n",
       "3  Fagan, Karen A; McMurtry, Ivan F; Rodman, David M      Respir Res   None   \n",
       "4  Domachowske, Joseph B; Bonville, Cynthia A; Ro...      Respir Res   None   \n",
       "\n",
       "  who_covidence_id arxiv_id  \\\n",
       "0             None     None   \n",
       "1             None     None   \n",
       "2             None     None   \n",
       "3             None     None   \n",
       "4             None     None   \n",
       "\n",
       "                                      pdf_json_files  \\\n",
       "0  document_parses/pdf_json/d1aafb70c066a2068b027...   \n",
       "1  document_parses/pdf_json/6b0567729c2143a66d737...   \n",
       "2  document_parses/pdf_json/06ced00a5fc04215949aa...   \n",
       "3  document_parses/pdf_json/348055649b6b8cf2b9a37...   \n",
       "4  document_parses/pdf_json/5f48792a5fa08bed9f560...   \n",
       "\n",
       "                               pmc_json_files  \\\n",
       "0  document_parses/pmc_json/PMC35282.xml.json   \n",
       "1  document_parses/pmc_json/PMC59543.xml.json   \n",
       "2  document_parses/pmc_json/PMC59549.xml.json   \n",
       "3  document_parses/pmc_json/PMC59574.xml.json   \n",
       "4  document_parses/pmc_json/PMC59580.xml.json   \n",
       "\n",
       "                                                 url s2_id  \n",
       "0  https://www.ncbi.nlm.nih.gov/pmc/articles/PMC3...  None  \n",
       "1  https://www.ncbi.nlm.nih.gov/pmc/articles/PMC5...  None  \n",
       "2  https://www.ncbi.nlm.nih.gov/pmc/articles/PMC5...  None  \n",
       "3  https://www.ncbi.nlm.nih.gov/pmc/articles/PMC5...  None  \n",
       "4  https://www.ncbi.nlm.nih.gov/pmc/articles/PMC5...  None  "
      ]
     },
     "execution_count": 9,
     "metadata": {},
     "output_type": "execute_result"
    }
   ],
   "source": [
    "metadata_pd = metadata.toPandas()\n",
    "metadata_pd.head()"
   ]
  },
  {
   "cell_type": "code",
   "execution_count": null,
   "metadata": {},
   "outputs": [],
   "source": []
  },
  {
   "cell_type": "markdown",
   "metadata": {},
   "source": [
    "### Read the json files and save in parquet files"
   ]
  },
  {
   "cell_type": "code",
   "execution_count": 8,
   "metadata": {},
   "outputs": [],
   "source": [
    "pdfJsonFiles_schema = StructType([\n",
    "    StructField(\"paper_id\", StringType()),\n",
    "    StructField(\"metadata\", StructType([\n",
    "        StructField(\"title\", StringType()),\n",
    "        StructField(\"authors\", ArrayType(StructType([\n",
    "            StructField(\"first\", StringType()),\n",
    "            StructField(\"middle\", ArrayType(StringType())),\n",
    "            StructField(\"last\", StringType()),\n",
    "            StructField(\"suffix\", StringType()),\n",
    "            StructField(\"affiliation\", StringType()),\n",
    "            StructField(\"email\", StringType()),\n",
    "        ]))),\n",
    "    ])),\n",
    "    StructField(\"abstract\", ArrayType(StructType([\n",
    "        StructField(\"text\", StringType()),\n",
    "        StructField(\"cite_spans\", ArrayType(StructType([\n",
    "            StructField(\"start\", IntegerType()),\n",
    "            StructField(\"end\", IntegerType()),\n",
    "            StructField(\"text\", StringType()),\n",
    "            StructField(\"ref_id\", StringType()),\n",
    "        ]))),\n",
    "        StructField(\"ref_spans\", ArrayType(StructType([\n",
    "            StructField(\"start\", IntegerType()),\n",
    "            StructField(\"end\", IntegerType()),\n",
    "            StructField(\"text\", StringType()),\n",
    "            StructField(\"ref_id\", StringType()),\n",
    "        ]))),\n",
    "        StructField(\"section\", StringType()),\n",
    "    ]))),\n",
    "        StructField(\"body_text\", ArrayType(StructType([\n",
    "        StructField(\"text\", StringType()),\n",
    "        StructField(\"cite_spans\", ArrayType(StructType([\n",
    "            StructField(\"start\", IntegerType()),\n",
    "            StructField(\"end\", IntegerType()),\n",
    "            StructField(\"text\", StringType()),\n",
    "            StructField(\"ref_id\", StringType()),\n",
    "        ]))),\n",
    "        StructField(\"ref_spans\", ArrayType(StructType([\n",
    "            StructField(\"start\", IntegerType()),\n",
    "            StructField(\"end\", IntegerType()),\n",
    "            StructField(\"text\", StringType()),\n",
    "            StructField(\"ref_id\", StringType()),\n",
    "        ]))),\n",
    "        StructField(\"section\", StringType()),\n",
    "    ]))),\n",
    "    StructField(\"bib_entries\", StringType()),\n",
    "    StructField(\"ref_entries\", StringType()),\n",
    "    StructField(\"back_matter\", StringType()),\n",
    "])\n"
   ]
  },
  {
   "cell_type": "code",
   "execution_count": 9,
   "metadata": {},
   "outputs": [],
   "source": [
    "pdfJsonFiles = spark.read\\\n",
    "                    .schema(pdfJsonFiles_schema)\\\n",
    "                    .option(\"multiline\",\"true\")\\\n",
    "                    .json('document_parses/pdf_json/*.json')"
   ]
  },
  {
   "cell_type": "code",
   "execution_count": 10,
   "metadata": {},
   "outputs": [
    {
     "name": "stdout",
     "output_type": "stream",
     "text": [
      "root\n",
      " |-- paper_id: string (nullable = true)\n",
      " |-- metadata: struct (nullable = true)\n",
      " |    |-- title: string (nullable = true)\n",
      " |    |-- authors: array (nullable = true)\n",
      " |    |    |-- element: struct (containsNull = true)\n",
      " |    |    |    |-- first: string (nullable = true)\n",
      " |    |    |    |-- middle: array (nullable = true)\n",
      " |    |    |    |    |-- element: string (containsNull = true)\n",
      " |    |    |    |-- last: string (nullable = true)\n",
      " |    |    |    |-- suffix: string (nullable = true)\n",
      " |    |    |    |-- affiliation: string (nullable = true)\n",
      " |    |    |    |-- email: string (nullable = true)\n",
      " |-- abstract: array (nullable = true)\n",
      " |    |-- element: struct (containsNull = true)\n",
      " |    |    |-- text: string (nullable = true)\n",
      " |    |    |-- cite_spans: array (nullable = true)\n",
      " |    |    |    |-- element: struct (containsNull = true)\n",
      " |    |    |    |    |-- start: integer (nullable = true)\n",
      " |    |    |    |    |-- end: integer (nullable = true)\n",
      " |    |    |    |    |-- text: string (nullable = true)\n",
      " |    |    |    |    |-- ref_id: string (nullable = true)\n",
      " |    |    |-- ref_spans: array (nullable = true)\n",
      " |    |    |    |-- element: struct (containsNull = true)\n",
      " |    |    |    |    |-- start: integer (nullable = true)\n",
      " |    |    |    |    |-- end: integer (nullable = true)\n",
      " |    |    |    |    |-- text: string (nullable = true)\n",
      " |    |    |    |    |-- ref_id: string (nullable = true)\n",
      " |    |    |-- section: string (nullable = true)\n",
      " |-- body_text: array (nullable = true)\n",
      " |    |-- element: struct (containsNull = true)\n",
      " |    |    |-- text: string (nullable = true)\n",
      " |    |    |-- cite_spans: array (nullable = true)\n",
      " |    |    |    |-- element: struct (containsNull = true)\n",
      " |    |    |    |    |-- start: integer (nullable = true)\n",
      " |    |    |    |    |-- end: integer (nullable = true)\n",
      " |    |    |    |    |-- text: string (nullable = true)\n",
      " |    |    |    |    |-- ref_id: string (nullable = true)\n",
      " |    |    |-- ref_spans: array (nullable = true)\n",
      " |    |    |    |-- element: struct (containsNull = true)\n",
      " |    |    |    |    |-- start: integer (nullable = true)\n",
      " |    |    |    |    |-- end: integer (nullable = true)\n",
      " |    |    |    |    |-- text: string (nullable = true)\n",
      " |    |    |    |    |-- ref_id: string (nullable = true)\n",
      " |    |    |-- section: string (nullable = true)\n",
      " |-- bib_entries: string (nullable = true)\n",
      " |-- ref_entries: string (nullable = true)\n",
      " |-- back_matter: string (nullable = true)\n",
      "\n"
     ]
    }
   ],
   "source": [
    "pdfJsonFiles.printSchema()"
   ]
  },
  {
   "cell_type": "code",
   "execution_count": 11,
   "metadata": {},
   "outputs": [
    {
     "data": {
      "text/html": [
       "<div>\n",
       "<style scoped>\n",
       "    .dataframe tbody tr th:only-of-type {\n",
       "        vertical-align: middle;\n",
       "    }\n",
       "\n",
       "    .dataframe tbody tr th {\n",
       "        vertical-align: top;\n",
       "    }\n",
       "\n",
       "    .dataframe thead th {\n",
       "        text-align: right;\n",
       "    }\n",
       "</style>\n",
       "<table border=\"1\" class=\"dataframe\">\n",
       "  <thead>\n",
       "    <tr style=\"text-align: right;\">\n",
       "      <th></th>\n",
       "      <th>paper_id</th>\n",
       "      <th>metadata</th>\n",
       "      <th>abstract</th>\n",
       "      <th>body_text</th>\n",
       "      <th>bib_entries</th>\n",
       "      <th>ref_entries</th>\n",
       "      <th>back_matter</th>\n",
       "    </tr>\n",
       "  </thead>\n",
       "  <tbody>\n",
       "    <tr>\n",
       "      <th>0</th>\n",
       "      <td>93e41ab96746bff2cc0d899137cae2054645e6c6</td>\n",
       "      <td>(POSTER SESSION ABSTRACTS 220 CFTR 1ଙ MODELS O...</td>\n",
       "      <td>[(High-throughput screening (HTS) has emerged ...</td>\n",
       "      <td>[(The high resolution, experimental 3D structu...</td>\n",
       "      <td>{\"BIBREF0\":{\"ref_id\":\"b0\",\"title\":\"Data collec...</td>\n",
       "      <td>{\"FIGREF0\":{\"text\":\"Supported by Vaincre La Mu...</td>\n",
       "      <td>[{\"text\":\"Background: Studies report reduced b...</td>\n",
       "    </tr>\n",
       "    <tr>\n",
       "      <th>1</th>\n",
       "      <td>0a17eac54e995f96411bd23dec19354ae1db3036</td>\n",
       "      <td>(Structure, Properties, and Biological Relevan...</td>\n",
       "      <td>[(G quadruplexes (G4s), which are known to hav...</td>\n",
       "      <td>[(The non canonical DNA structures formed by c...</td>\n",
       "      <td>{\"BIBREF0\":{\"ref_id\":\"b0\",\"title\":\"Telomeric r...</td>\n",
       "      <td>{\"FIGREF0\":{\"text\":\"Schematic representation o...</td>\n",
       "      <td>[{\"text\":\"This work was supported by the Russi...</td>\n",
       "    </tr>\n",
       "    <tr>\n",
       "      <th>2</th>\n",
       "      <td>ffec12aa4a9fd44c1cef69a933194c5f19e75bf0</td>\n",
       "      <td>(Humanized Mice for Live-Attenuated Vaccine Re...</td>\n",
       "      <td>[(Live-attenuated vaccines (LAV) represent one...</td>\n",
       "      <td>[(Live-attenuated vaccines (LAVs) have saved m...</td>\n",
       "      <td>{\"BIBREF0\":{\"ref_id\":\"b0\",\"title\":\"World Healt...</td>\n",
       "      <td>{\"FIGREF0\":{\"text\":\"Development of human immun...</td>\n",
       "      <td>[{\"text\":\"We are thankful to our colleagues in...</td>\n",
       "    </tr>\n",
       "    <tr>\n",
       "      <th>3</th>\n",
       "      <td>0ae7fff969f6c8af643343337e618034a94f4a77</td>\n",
       "      <td>(In the Realm of Opportunity: The Kaiser Wilhe...</td>\n",
       "      <td>[]</td>\n",
       "      <td>[(speakers for public lectures, as representat...</td>\n",
       "      <td>{\"BIBREF0\":{\"ref_id\":\"b0\",\"title\":\"Bericht übe...</td>\n",
       "      <td>{\"FIGREF0\":{\"text\":\"What meaning does a gene h...</td>\n",
       "      <td>[{\"text\":\"The case of the three heterochromous...</td>\n",
       "    </tr>\n",
       "    <tr>\n",
       "      <th>4</th>\n",
       "      <td>cd6de82b70bb7c544716d3b4ad69d63e5e33fdce</td>\n",
       "      <td>(ACVIM ABSTRACTS 5 WARMUP EXERCISE ALTERS ENER...</td>\n",
       "      <td>[(This study examined the effects of three dif...</td>\n",
       "      <td>[(PORT H.C. Schott II, C.L. Coursen, S.W. Eber...</td>\n",
       "      <td>{\"BIBREF0\":{\"ref_id\":\"b0\",\"title\":\"From the HE...</td>\n",
       "      <td>{\"FIGREF0\":{\"text\":\"VIVO PRIMING AND ACTIVATIO...</td>\n",
       "      <td>[{\"text\":\"This study was designed to evaluate ...</td>\n",
       "    </tr>\n",
       "  </tbody>\n",
       "</table>\n",
       "</div>"
      ],
      "text/plain": [
       "                                   paper_id  \\\n",
       "0  93e41ab96746bff2cc0d899137cae2054645e6c6   \n",
       "1  0a17eac54e995f96411bd23dec19354ae1db3036   \n",
       "2  ffec12aa4a9fd44c1cef69a933194c5f19e75bf0   \n",
       "3  0ae7fff969f6c8af643343337e618034a94f4a77   \n",
       "4  cd6de82b70bb7c544716d3b4ad69d63e5e33fdce   \n",
       "\n",
       "                                            metadata  \\\n",
       "0  (POSTER SESSION ABSTRACTS 220 CFTR 1ଙ MODELS O...   \n",
       "1  (Structure, Properties, and Biological Relevan...   \n",
       "2  (Humanized Mice for Live-Attenuated Vaccine Re...   \n",
       "3  (In the Realm of Opportunity: The Kaiser Wilhe...   \n",
       "4  (ACVIM ABSTRACTS 5 WARMUP EXERCISE ALTERS ENER...   \n",
       "\n",
       "                                            abstract  \\\n",
       "0  [(High-throughput screening (HTS) has emerged ...   \n",
       "1  [(G quadruplexes (G4s), which are known to hav...   \n",
       "2  [(Live-attenuated vaccines (LAV) represent one...   \n",
       "3                                                 []   \n",
       "4  [(This study examined the effects of three dif...   \n",
       "\n",
       "                                           body_text  \\\n",
       "0  [(The high resolution, experimental 3D structu...   \n",
       "1  [(The non canonical DNA structures formed by c...   \n",
       "2  [(Live-attenuated vaccines (LAVs) have saved m...   \n",
       "3  [(speakers for public lectures, as representat...   \n",
       "4  [(PORT H.C. Schott II, C.L. Coursen, S.W. Eber...   \n",
       "\n",
       "                                         bib_entries  \\\n",
       "0  {\"BIBREF0\":{\"ref_id\":\"b0\",\"title\":\"Data collec...   \n",
       "1  {\"BIBREF0\":{\"ref_id\":\"b0\",\"title\":\"Telomeric r...   \n",
       "2  {\"BIBREF0\":{\"ref_id\":\"b0\",\"title\":\"World Healt...   \n",
       "3  {\"BIBREF0\":{\"ref_id\":\"b0\",\"title\":\"Bericht übe...   \n",
       "4  {\"BIBREF0\":{\"ref_id\":\"b0\",\"title\":\"From the HE...   \n",
       "\n",
       "                                         ref_entries  \\\n",
       "0  {\"FIGREF0\":{\"text\":\"Supported by Vaincre La Mu...   \n",
       "1  {\"FIGREF0\":{\"text\":\"Schematic representation o...   \n",
       "2  {\"FIGREF0\":{\"text\":\"Development of human immun...   \n",
       "3  {\"FIGREF0\":{\"text\":\"What meaning does a gene h...   \n",
       "4  {\"FIGREF0\":{\"text\":\"VIVO PRIMING AND ACTIVATIO...   \n",
       "\n",
       "                                         back_matter  \n",
       "0  [{\"text\":\"Background: Studies report reduced b...  \n",
       "1  [{\"text\":\"This work was supported by the Russi...  \n",
       "2  [{\"text\":\"We are thankful to our colleagues in...  \n",
       "3  [{\"text\":\"The case of the three heterochromous...  \n",
       "4  [{\"text\":\"This study was designed to evaluate ...  "
      ]
     },
     "execution_count": 11,
     "metadata": {},
     "output_type": "execute_result"
    }
   ],
   "source": [
    "pdfJsonFiles.toPandas().head()"
   ]
  },
  {
   "cell_type": "markdown",
   "metadata": {},
   "source": [
    "### Save Json data to Parquet file then read it."
   ]
  },
  {
   "cell_type": "code",
   "execution_count": 12,
   "metadata": {},
   "outputs": [],
   "source": [
    "pdfJsonFiles.drop('metadata', 'bib_entries', 'ref_entries', 'back_matter')\\\n",
    "            .write\\\n",
    "            .parquet(\"pdfJsonFiles.parquet\", \"overwrite\")"
   ]
  },
  {
   "cell_type": "code",
   "execution_count": 10,
   "metadata": {},
   "outputs": [],
   "source": [
    "pdfJsonFilesParquetFile = spark.read.parquet(\"pdfJsonFiles.parquet\")"
   ]
  },
  {
   "cell_type": "code",
   "execution_count": 11,
   "metadata": {},
   "outputs": [
    {
     "data": {
      "text/plain": [
       "695"
      ]
     },
     "execution_count": 11,
     "metadata": {},
     "output_type": "execute_result"
    }
   ],
   "source": [
    "pdfJsonFilesParquetFile.count()"
   ]
  },
  {
   "cell_type": "code",
   "execution_count": null,
   "metadata": {},
   "outputs": [],
   "source": []
  },
  {
   "cell_type": "code",
   "execution_count": null,
   "metadata": {},
   "outputs": [],
   "source": []
  },
  {
   "cell_type": "code",
   "execution_count": null,
   "metadata": {},
   "outputs": [],
   "source": []
  },
  {
   "cell_type": "markdown",
   "metadata": {},
   "source": [
    "## 2. Do exploratory data analysis:"
   ]
  },
  {
   "cell_type": "code",
   "execution_count": 12,
   "metadata": {},
   "outputs": [
    {
     "name": "stdout",
     "output_type": "stream",
     "text": [
      "Total count of All records in the metadata csv file\n"
     ]
    },
    {
     "data": {
      "text/plain": [
       "136067"
      ]
     },
     "execution_count": 12,
     "metadata": {},
     "output_type": "execute_result"
    }
   ],
   "source": [
    "total_count = metadata.count()\n",
    "print('Total count of All records in the metadata csv file')\n",
    "total_count"
   ]
  },
  {
   "cell_type": "code",
   "execution_count": 13,
   "metadata": {},
   "outputs": [
    {
     "data": {
      "text/plain": [
       "cord_uid             0.000000\n",
       "sha                 56.785995\n",
       "source_x             0.000000\n",
       "title                0.022048\n",
       "doi                 21.650363\n",
       "pmcid               52.297030\n",
       "pubmed_id           24.098422\n",
       "license              0.030132\n",
       "abstract            21.533509\n",
       "publish_time         2.062954\n",
       "authors              3.670986\n",
       "journal              4.888033\n",
       "mag_id              97.966443\n",
       "who_covidence_id    83.416993\n",
       "arxiv_id            97.317498\n",
       "pdf_json_files      55.587321\n",
       "pmc_json_files      64.325663\n",
       "url                  8.417177\n",
       "s2_id               20.808866\n",
       "dtype: float64"
      ]
     },
     "execution_count": 13,
     "metadata": {},
     "output_type": "execute_result"
    }
   ],
   "source": [
    "metadata_nan = (metadata_pd.isnull().sum() / total_count) * 100\n",
    "metadata_nan"
   ]
  },
  {
   "cell_type": "markdown",
   "metadata": {},
   "source": [
    "- We can see that there are columns almost null (mag_id, who_covidence_id, arxiv_id).\n",
    "- We will use the columns ['sha', 'source_x', 'title', 'license', 'abstract', 'publish_time', 'authors', 'journal'] \n",
    "- Considering that COVID-19 starts its spreading from 2019 so we will consider only papers that published from 2019.\n",
    "- We will drop the duplicates by using the paper id *(sha)*. "
   ]
  },
  {
   "cell_type": "code",
   "execution_count": 14,
   "metadata": {},
   "outputs": [],
   "source": [
    "metadataGreaterThan2019 = metadata.where(year(metadata.publish_time) >= '2019')\\\n",
    "                                .coalesce(1)\\\n",
    "                                .select(\n",
    "                                    'sha',\n",
    "                                    'source_x',\n",
    "                                    'title',\n",
    "                                    'license',\n",
    "                                    'abstract',\n",
    "                                    'publish_time',\n",
    "                                    'authors',\n",
    "                                    'journal'\n",
    "                                )\\\n",
    "                                .withColumnRenamed('abstract', 'main_abstract')\\\n",
    "                                .dropDuplicates(subset=['sha'])"
   ]
  },
  {
   "cell_type": "code",
   "execution_count": 18,
   "metadata": {},
   "outputs": [
    {
     "name": "stdout",
     "output_type": "stream",
     "text": [
      "Count of records after filtering the year to be greater than 2019 is\n"
     ]
    },
    {
     "data": {
      "text/plain": [
       "18146"
      ]
     },
     "execution_count": 18,
     "metadata": {},
     "output_type": "execute_result"
    }
   ],
   "source": [
    "print('Count of records after filtering the year to be greater than 2019 is')\n",
    "metadataGreaterThan2019.count()"
   ]
  },
  {
   "cell_type": "code",
   "execution_count": null,
   "metadata": {},
   "outputs": [],
   "source": []
  },
  {
   "cell_type": "code",
   "execution_count": null,
   "metadata": {},
   "outputs": [],
   "source": []
  },
  {
   "cell_type": "code",
   "execution_count": null,
   "metadata": {},
   "outputs": [],
   "source": []
  },
  {
   "cell_type": "markdown",
   "metadata": {},
   "source": [
    "## 3. Preparation and Cleaning the data:"
   ]
  },
  {
   "cell_type": "markdown",
   "metadata": {},
   "source": [
    "### Joining the json file with the metadata in the csv file"
   ]
  },
  {
   "cell_type": "code",
   "execution_count": 15,
   "metadata": {},
   "outputs": [],
   "source": [
    "joinedPapersData = pdfJsonFilesParquetFile.join(\n",
    "                                            broadcast(metadataGreaterThan2019),\n",
    "                                            metadataGreaterThan2019.sha == pdfJsonFilesParquetFile.paper_id\n",
    "                                        )\\\n",
    "                                        .drop('paper_id')"
   ]
  },
  {
   "cell_type": "code",
   "execution_count": 16,
   "metadata": {},
   "outputs": [
    {
     "name": "stdout",
     "output_type": "stream",
     "text": [
      "Count of the joined data:\n"
     ]
    },
    {
     "data": {
      "text/plain": [
       "235"
      ]
     },
     "execution_count": 16,
     "metadata": {},
     "output_type": "execute_result"
    }
   ],
   "source": [
    "print('Count of the joined data:')\n",
    "joinedPapersData.count()"
   ]
  },
  {
   "cell_type": "code",
   "execution_count": 17,
   "metadata": {},
   "outputs": [
    {
     "data": {
      "text/html": [
       "<div>\n",
       "<style scoped>\n",
       "    .dataframe tbody tr th:only-of-type {\n",
       "        vertical-align: middle;\n",
       "    }\n",
       "\n",
       "    .dataframe tbody tr th {\n",
       "        vertical-align: top;\n",
       "    }\n",
       "\n",
       "    .dataframe thead th {\n",
       "        text-align: right;\n",
       "    }\n",
       "</style>\n",
       "<table border=\"1\" class=\"dataframe\">\n",
       "  <thead>\n",
       "    <tr style=\"text-align: right;\">\n",
       "      <th></th>\n",
       "      <th>abstract</th>\n",
       "      <th>body_text</th>\n",
       "      <th>sha</th>\n",
       "      <th>source_x</th>\n",
       "      <th>title</th>\n",
       "      <th>license</th>\n",
       "      <th>main_abstract</th>\n",
       "      <th>publish_time</th>\n",
       "      <th>authors</th>\n",
       "      <th>journal</th>\n",
       "    </tr>\n",
       "  </thead>\n",
       "  <tbody>\n",
       "    <tr>\n",
       "      <th>0</th>\n",
       "      <td>[(Ubiquitin Proteasome System (UPS) is an adap...</td>\n",
       "      <td>[(intracellular proteolytic systems, namely Ub...</td>\n",
       "      <td>c6ca840f6c446c66396c06fc42401af987b88e5d</td>\n",
       "      <td>Elsevier; Medline; PMC</td>\n",
       "      <td>The proteasome as a druggable target with mult...</td>\n",
       "      <td>no-cc</td>\n",
       "      <td>Ubiquitin Proteasome System (UPS) is an adapta...</td>\n",
       "      <td>2020-05-19</td>\n",
       "      <td>Tundo, G.R.; Sbardella, D.; Santoro, A.M.; Col...</td>\n",
       "      <td>Pharmacol Ther</td>\n",
       "    </tr>\n",
       "    <tr>\n",
       "      <th>1</th>\n",
       "      <td>[(Austria had for centuries a rich history of ...</td>\n",
       "      <td>[(in the fin de siecle was heavily concentrate...</td>\n",
       "      <td>8255413c3d6cae0cd4a70c6000db8cc787837756</td>\n",
       "      <td>PMC</td>\n",
       "      <td>Abstract of 29th Regional Congress of the ISBT</td>\n",
       "      <td>no-cc</td>\n",
       "      <td>None</td>\n",
       "      <td>2019-06-07</td>\n",
       "      <td>None</td>\n",
       "      <td>Vox Sang</td>\n",
       "    </tr>\n",
       "    <tr>\n",
       "      <th>2</th>\n",
       "      <td>[(authors contributed equally to the manuscrip...</td>\n",
       "      <td>[(The dramatic change of events with the recen...</td>\n",
       "      <td>d280fe9f961472d75fa98a10f73bb373d418905e</td>\n",
       "      <td>Elsevier; Medline; PMC; WHO</td>\n",
       "      <td>Natural product-derived phytochemicals as pote...</td>\n",
       "      <td>no-cc</td>\n",
       "      <td>Coronaviruses are responsible for a growing ec...</td>\n",
       "      <td>2020-04-30</td>\n",
       "      <td>Mani, Janice S.; Johnson, Joel B.; Steel, Jaso...</td>\n",
       "      <td>Virus Res</td>\n",
       "    </tr>\n",
       "    <tr>\n",
       "      <th>3</th>\n",
       "      <td>[(Please cite this article as: Smith, J.C., Sa...</td>\n",
       "      <td>[(In December 2019, a novel respiratory diseas...</td>\n",
       "      <td>4a756653f012e5505ec536a77281bdb663d708a1</td>\n",
       "      <td>Elsevier; Medline; PMC; WHO</td>\n",
       "      <td>Cigarette smoke exposure and inflammatory sign...</td>\n",
       "      <td>els-covid</td>\n",
       "      <td>Abstract The factors mediating fatal SARS-CoV-...</td>\n",
       "      <td>2020-05-16</td>\n",
       "      <td>Smith, Joan C.; Sausville, Erin L.; Girish, Vi...</td>\n",
       "      <td>Dev Cell</td>\n",
       "    </tr>\n",
       "    <tr>\n",
       "      <th>4</th>\n",
       "      <td>[(The influence of the microbiota on viral inf...</td>\n",
       "      <td>[(The human and animal body surface and caviti...</td>\n",
       "      <td>c503d80fc5c84fd80cf58116c604ccf56f5d6178</td>\n",
       "      <td>Elsevier; PMC</td>\n",
       "      <td>Microbiota in viral infection and disease in h...</td>\n",
       "      <td>no-cc</td>\n",
       "      <td>The influence of the microbiota on viral infec...</td>\n",
       "      <td>2020-04-24</td>\n",
       "      <td>Yuan, Lijuan; Hensley, Casey; Mahsoub, Hassan ...</td>\n",
       "      <td>Prog Mol Biol Transl Sci</td>\n",
       "    </tr>\n",
       "  </tbody>\n",
       "</table>\n",
       "</div>"
      ],
      "text/plain": [
       "                                            abstract  \\\n",
       "0  [(Ubiquitin Proteasome System (UPS) is an adap...   \n",
       "1  [(Austria had for centuries a rich history of ...   \n",
       "2  [(authors contributed equally to the manuscrip...   \n",
       "3  [(Please cite this article as: Smith, J.C., Sa...   \n",
       "4  [(The influence of the microbiota on viral inf...   \n",
       "\n",
       "                                           body_text  \\\n",
       "0  [(intracellular proteolytic systems, namely Ub...   \n",
       "1  [(in the fin de siecle was heavily concentrate...   \n",
       "2  [(The dramatic change of events with the recen...   \n",
       "3  [(In December 2019, a novel respiratory diseas...   \n",
       "4  [(The human and animal body surface and caviti...   \n",
       "\n",
       "                                        sha                     source_x  \\\n",
       "0  c6ca840f6c446c66396c06fc42401af987b88e5d       Elsevier; Medline; PMC   \n",
       "1  8255413c3d6cae0cd4a70c6000db8cc787837756                          PMC   \n",
       "2  d280fe9f961472d75fa98a10f73bb373d418905e  Elsevier; Medline; PMC; WHO   \n",
       "3  4a756653f012e5505ec536a77281bdb663d708a1  Elsevier; Medline; PMC; WHO   \n",
       "4  c503d80fc5c84fd80cf58116c604ccf56f5d6178                Elsevier; PMC   \n",
       "\n",
       "                                               title    license  \\\n",
       "0  The proteasome as a druggable target with mult...      no-cc   \n",
       "1     Abstract of 29th Regional Congress of the ISBT      no-cc   \n",
       "2  Natural product-derived phytochemicals as pote...      no-cc   \n",
       "3  Cigarette smoke exposure and inflammatory sign...  els-covid   \n",
       "4  Microbiota in viral infection and disease in h...      no-cc   \n",
       "\n",
       "                                       main_abstract publish_time  \\\n",
       "0  Ubiquitin Proteasome System (UPS) is an adapta...   2020-05-19   \n",
       "1                                               None   2019-06-07   \n",
       "2  Coronaviruses are responsible for a growing ec...   2020-04-30   \n",
       "3  Abstract The factors mediating fatal SARS-CoV-...   2020-05-16   \n",
       "4  The influence of the microbiota on viral infec...   2020-04-24   \n",
       "\n",
       "                                             authors                   journal  \n",
       "0  Tundo, G.R.; Sbardella, D.; Santoro, A.M.; Col...            Pharmacol Ther  \n",
       "1                                               None                  Vox Sang  \n",
       "2  Mani, Janice S.; Johnson, Joel B.; Steel, Jaso...                 Virus Res  \n",
       "3  Smith, Joan C.; Sausville, Erin L.; Girish, Vi...                  Dev Cell  \n",
       "4  Yuan, Lijuan; Hensley, Casey; Mahsoub, Hassan ...  Prog Mol Biol Transl Sci  "
      ]
     },
     "execution_count": 17,
     "metadata": {},
     "output_type": "execute_result"
    }
   ],
   "source": [
    "joinedPapersData.toPandas().head()"
   ]
  },
  {
   "cell_type": "markdown",
   "metadata": {},
   "source": [
    "### Keep Only the english documents"
   ]
  },
  {
   "cell_type": "code",
   "execution_count": 18,
   "metadata": {},
   "outputs": [],
   "source": [
    "# A function to detect text language\n",
    "\n",
    "def detectLang(text):\n",
    "    lang = detect(text)\n",
    "    if lang == 'en':\n",
    "        return lang\n",
    "\n",
    "detect_lang_udf = udf(lambda text: detectLang(text))"
   ]
  },
  {
   "cell_type": "markdown",
   "metadata": {},
   "source": [
    "- Get first Author only.\n",
    "- split the publish date to (year, month, day).\n",
    "- Get the language (en or null otherwise).\n",
    "- Drop unwanted columns.\n",
    "- Fill null in the important columns.\n",
    "- Drop non-english."
   ]
  },
  {
   "cell_type": "code",
   "execution_count": 19,
   "metadata": {},
   "outputs": [],
   "source": [
    "papersData = joinedPapersData.withColumn('abstract', concat_ws(' ', joinedPapersData.abstract.text))\\\n",
    "                            .withColumn('body_text', concat_ws(' ', joinedPapersData.body_text.text))\\\n",
    "                            .withColumn('first_author', split(joinedPapersData.authors, ';')[0])\\\n",
    "                            .withColumn('publish_year', year(joinedPapersData.publish_time))\\\n",
    "                            .withColumn('publish_month', month(joinedPapersData.publish_time))\\\n",
    "                            .withColumn('lang', detect_lang_udf(joinedPapersData.title))\\\n",
    "                            .drop('authors', 'publish_time')\\\n",
    "                            .fillna({'first_author': 'unknown', 'journal': 'unknown', 'main_abstract': ''})"
   ]
  },
  {
   "cell_type": "code",
   "execution_count": 20,
   "metadata": {},
   "outputs": [],
   "source": [
    "papersData = papersData.dropna()\\\n",
    "                        .drop('lang')\\\n",
    "                        .persist()"
   ]
  },
  {
   "cell_type": "code",
   "execution_count": 21,
   "metadata": {},
   "outputs": [
    {
     "data": {
      "text/html": [
       "<div>\n",
       "<style scoped>\n",
       "    .dataframe tbody tr th:only-of-type {\n",
       "        vertical-align: middle;\n",
       "    }\n",
       "\n",
       "    .dataframe tbody tr th {\n",
       "        vertical-align: top;\n",
       "    }\n",
       "\n",
       "    .dataframe thead th {\n",
       "        text-align: right;\n",
       "    }\n",
       "</style>\n",
       "<table border=\"1\" class=\"dataframe\">\n",
       "  <thead>\n",
       "    <tr style=\"text-align: right;\">\n",
       "      <th></th>\n",
       "      <th>abstract</th>\n",
       "      <th>body_text</th>\n",
       "      <th>sha</th>\n",
       "      <th>source_x</th>\n",
       "      <th>title</th>\n",
       "      <th>license</th>\n",
       "      <th>main_abstract</th>\n",
       "      <th>journal</th>\n",
       "      <th>first_author</th>\n",
       "      <th>publish_year</th>\n",
       "      <th>publish_month</th>\n",
       "    </tr>\n",
       "  </thead>\n",
       "  <tbody>\n",
       "    <tr>\n",
       "      <th>0</th>\n",
       "      <td>Ubiquitin Proteasome System (UPS) is an adapta...</td>\n",
       "      <td>intracellular proteolytic systems, namely Ubiq...</td>\n",
       "      <td>c6ca840f6c446c66396c06fc42401af987b88e5d</td>\n",
       "      <td>Elsevier; Medline; PMC</td>\n",
       "      <td>The proteasome as a druggable target with mult...</td>\n",
       "      <td>no-cc</td>\n",
       "      <td>Ubiquitin Proteasome System (UPS) is an adapta...</td>\n",
       "      <td>Pharmacol Ther</td>\n",
       "      <td>Tundo, G.R.</td>\n",
       "      <td>2020</td>\n",
       "      <td>5</td>\n",
       "    </tr>\n",
       "    <tr>\n",
       "      <th>1</th>\n",
       "      <td>Austria had for centuries a rich history of cu...</td>\n",
       "      <td>in the fin de siecle was heavily concentrated ...</td>\n",
       "      <td>8255413c3d6cae0cd4a70c6000db8cc787837756</td>\n",
       "      <td>PMC</td>\n",
       "      <td>Abstract of 29th Regional Congress of the ISBT</td>\n",
       "      <td>no-cc</td>\n",
       "      <td></td>\n",
       "      <td>Vox Sang</td>\n",
       "      <td>unknown</td>\n",
       "      <td>2019</td>\n",
       "      <td>6</td>\n",
       "    </tr>\n",
       "    <tr>\n",
       "      <th>2</th>\n",
       "      <td>authors contributed equally to the manuscript ...</td>\n",
       "      <td>The dramatic change of events with the recent ...</td>\n",
       "      <td>d280fe9f961472d75fa98a10f73bb373d418905e</td>\n",
       "      <td>Elsevier; Medline; PMC; WHO</td>\n",
       "      <td>Natural product-derived phytochemicals as pote...</td>\n",
       "      <td>no-cc</td>\n",
       "      <td>Coronaviruses are responsible for a growing ec...</td>\n",
       "      <td>Virus Res</td>\n",
       "      <td>Mani, Janice S.</td>\n",
       "      <td>2020</td>\n",
       "      <td>4</td>\n",
       "    </tr>\n",
       "    <tr>\n",
       "      <th>3</th>\n",
       "      <td>Please cite this article as: Smith, J.C., Saus...</td>\n",
       "      <td>In December 2019, a novel respiratory disease ...</td>\n",
       "      <td>4a756653f012e5505ec536a77281bdb663d708a1</td>\n",
       "      <td>Elsevier; Medline; PMC; WHO</td>\n",
       "      <td>Cigarette smoke exposure and inflammatory sign...</td>\n",
       "      <td>els-covid</td>\n",
       "      <td>Abstract The factors mediating fatal SARS-CoV-...</td>\n",
       "      <td>Dev Cell</td>\n",
       "      <td>Smith, Joan C.</td>\n",
       "      <td>2020</td>\n",
       "      <td>5</td>\n",
       "    </tr>\n",
       "    <tr>\n",
       "      <th>4</th>\n",
       "      <td>The influence of the microbiota on viral infec...</td>\n",
       "      <td>The human and animal body surface and cavities...</td>\n",
       "      <td>c503d80fc5c84fd80cf58116c604ccf56f5d6178</td>\n",
       "      <td>Elsevier; PMC</td>\n",
       "      <td>Microbiota in viral infection and disease in h...</td>\n",
       "      <td>no-cc</td>\n",
       "      <td>The influence of the microbiota on viral infec...</td>\n",
       "      <td>Prog Mol Biol Transl Sci</td>\n",
       "      <td>Yuan, Lijuan</td>\n",
       "      <td>2020</td>\n",
       "      <td>4</td>\n",
       "    </tr>\n",
       "  </tbody>\n",
       "</table>\n",
       "</div>"
      ],
      "text/plain": [
       "                                            abstract  \\\n",
       "0  Ubiquitin Proteasome System (UPS) is an adapta...   \n",
       "1  Austria had for centuries a rich history of cu...   \n",
       "2  authors contributed equally to the manuscript ...   \n",
       "3  Please cite this article as: Smith, J.C., Saus...   \n",
       "4  The influence of the microbiota on viral infec...   \n",
       "\n",
       "                                           body_text  \\\n",
       "0  intracellular proteolytic systems, namely Ubiq...   \n",
       "1  in the fin de siecle was heavily concentrated ...   \n",
       "2  The dramatic change of events with the recent ...   \n",
       "3  In December 2019, a novel respiratory disease ...   \n",
       "4  The human and animal body surface and cavities...   \n",
       "\n",
       "                                        sha                     source_x  \\\n",
       "0  c6ca840f6c446c66396c06fc42401af987b88e5d       Elsevier; Medline; PMC   \n",
       "1  8255413c3d6cae0cd4a70c6000db8cc787837756                          PMC   \n",
       "2  d280fe9f961472d75fa98a10f73bb373d418905e  Elsevier; Medline; PMC; WHO   \n",
       "3  4a756653f012e5505ec536a77281bdb663d708a1  Elsevier; Medline; PMC; WHO   \n",
       "4  c503d80fc5c84fd80cf58116c604ccf56f5d6178                Elsevier; PMC   \n",
       "\n",
       "                                               title    license  \\\n",
       "0  The proteasome as a druggable target with mult...      no-cc   \n",
       "1     Abstract of 29th Regional Congress of the ISBT      no-cc   \n",
       "2  Natural product-derived phytochemicals as pote...      no-cc   \n",
       "3  Cigarette smoke exposure and inflammatory sign...  els-covid   \n",
       "4  Microbiota in viral infection and disease in h...      no-cc   \n",
       "\n",
       "                                       main_abstract  \\\n",
       "0  Ubiquitin Proteasome System (UPS) is an adapta...   \n",
       "1                                                      \n",
       "2  Coronaviruses are responsible for a growing ec...   \n",
       "3  Abstract The factors mediating fatal SARS-CoV-...   \n",
       "4  The influence of the microbiota on viral infec...   \n",
       "\n",
       "                    journal     first_author  publish_year  publish_month  \n",
       "0            Pharmacol Ther      Tundo, G.R.          2020              5  \n",
       "1                  Vox Sang          unknown          2019              6  \n",
       "2                 Virus Res  Mani, Janice S.          2020              4  \n",
       "3                  Dev Cell   Smith, Joan C.          2020              5  \n",
       "4  Prog Mol Biol Transl Sci     Yuan, Lijuan          2020              4  "
      ]
     },
     "execution_count": 21,
     "metadata": {},
     "output_type": "execute_result"
    }
   ],
   "source": [
    "papersData.toPandas().head()"
   ]
  },
  {
   "cell_type": "code",
   "execution_count": null,
   "metadata": {},
   "outputs": [],
   "source": []
  },
  {
   "cell_type": "markdown",
   "metadata": {},
   "source": [
    "## 4. Preprocessing:"
   ]
  },
  {
   "cell_type": "markdown",
   "metadata": {},
   "source": [
    "### Concat all text feilds in one field then Convert text to lower case."
   ]
  },
  {
   "cell_type": "code",
   "execution_count": 22,
   "metadata": {},
   "outputs": [],
   "source": [
    "papersData = papersData.withColumn('text', concat(\n",
    "                                                papersData.title,\n",
    "                                                lit(\" \"),\n",
    "                                                papersData.main_abstract,\n",
    "                                                lit(\" \"),\n",
    "                                                papersData.abstract,\n",
    "                                                lit(\" \"),\n",
    "                                                papersData.body_text,\n",
    "                                            )\n",
    "                                  )\n",
    "\n",
    "papersData = papersData.withColumn('text', lower(papersData.text))\\\n",
    "                        .drop(\n",
    "                            'abstract',\n",
    "                            'body_text',\n",
    "                            'title',\n",
    "                            'main_abstract'\n",
    "                        )"
   ]
  },
  {
   "cell_type": "code",
   "execution_count": null,
   "metadata": {},
   "outputs": [],
   "source": []
  },
  {
   "cell_type": "markdown",
   "metadata": {},
   "source": [
    "### Extraxting Categorical and numerical columns."
   ]
  },
  {
   "cell_type": "code",
   "execution_count": 23,
   "metadata": {},
   "outputs": [
    {
     "data": {
      "text/plain": [
       "['source_x', 'license', 'journal', 'first_author']"
      ]
     },
     "execution_count": 23,
     "metadata": {},
     "output_type": "execute_result"
    }
   ],
   "source": [
    "cat_cols = [item[0] for item in papersData.dtypes if item[1].startswith('string') and item[0] not in ['sha', 'text']]\n",
    "cat_cols"
   ]
  },
  {
   "cell_type": "code",
   "execution_count": 24,
   "metadata": {},
   "outputs": [
    {
     "data": {
      "text/plain": [
       "['publish_year', 'publish_month']"
      ]
     },
     "execution_count": 24,
     "metadata": {},
     "output_type": "execute_result"
    }
   ],
   "source": [
    "num_cols = [item[0] for item in papersData.dtypes if item[1].startswith('int') | item[1].startswith('double')] \n",
    "num_cols"
   ]
  },
  {
   "cell_type": "code",
   "execution_count": 25,
   "metadata": {},
   "outputs": [
    {
     "data": {
      "text/plain": [
       "['publish_year',\n",
       " 'publish_month',\n",
       " 'source_x_encoded',\n",
       " 'license_encoded',\n",
       " 'journal_encoded',\n",
       " 'first_author_encoded',\n",
       " 'processed']"
      ]
     },
     "execution_count": 25,
     "metadata": {},
     "output_type": "execute_result"
    }
   ],
   "source": [
    "requiredFeatures = num_cols + [column + '_encoded' for column in cat_cols] + ['processed']\n",
    "requiredFeatures"
   ]
  },
  {
   "cell_type": "markdown",
   "metadata": {},
   "source": [
    "### Tokenizer and Remove Punctuation"
   ]
  },
  {
   "cell_type": "code",
   "execution_count": 26,
   "metadata": {},
   "outputs": [],
   "source": [
    "regexTokenizer = RegexTokenizer(inputCol=\"text\", outputCol=\"words\", pattern=\"\\w+\", gaps=False)"
   ]
  },
  {
   "cell_type": "markdown",
   "metadata": {},
   "source": [
    "### Remove stop words."
   ]
  },
  {
   "cell_type": "code",
   "execution_count": 27,
   "metadata": {},
   "outputs": [],
   "source": [
    "stopWordsRemover = StopWordsRemover(inputCol=\"words\", outputCol=\"semi_filtered\")"
   ]
  },
  {
   "cell_type": "markdown",
   "metadata": {},
   "source": [
    "### Remove custom stop words"
   ]
  },
  {
   "cell_type": "code",
   "execution_count": 28,
   "metadata": {},
   "outputs": [],
   "source": [
    "#A function to remove Custom Stop Words.\n",
    "custom_stopwords = [ 'doi', 'preprint', 'copyright', 'peer', 'reviewed', 'org',\n",
    "'https', 'et', 'al', 'author', 'figure','rights', 'reserved', 'permission', 'used', 'using',\n",
    "'biorxiv', 'medrxiv', 'license', 'fig', 'fig.', 'al.', 'elsevier', 'pmc', 'czi', 'www']\n",
    "\n",
    "customStopWordsRemover = StopWordsRemover(\n",
    "                                inputCol=\"semi_filtered\",\n",
    "                                outputCol=\"filtered\",\n",
    "                                stopWords=custom_stopwords\n",
    "                        )"
   ]
  },
  {
   "cell_type": "code",
   "execution_count": null,
   "metadata": {},
   "outputs": [],
   "source": []
  },
  {
   "cell_type": "code",
   "execution_count": null,
   "metadata": {},
   "outputs": [],
   "source": []
  },
  {
   "cell_type": "code",
   "execution_count": null,
   "metadata": {},
   "outputs": [],
   "source": []
  },
  {
   "cell_type": "markdown",
   "metadata": {},
   "source": [
    "## 5. Vectorization :"
   ]
  },
  {
   "cell_type": "markdown",
   "metadata": {},
   "source": [
    "### Apply Word2Vec."
   ]
  },
  {
   "cell_type": "code",
   "execution_count": 29,
   "metadata": {},
   "outputs": [],
   "source": [
    "word2Vec = Word2Vec(inputCol=\"filtered\", outputCol=\"processed\", vectorSize=1000)"
   ]
  },
  {
   "cell_type": "markdown",
   "metadata": {},
   "source": [
    "### Prepare Indexers."
   ]
  },
  {
   "cell_type": "code",
   "execution_count": 30,
   "metadata": {},
   "outputs": [],
   "source": [
    "indexers = [StringIndexer(\n",
    "    inputCol=column, \n",
    "    outputCol=column + '_index', \n",
    "    handleInvalid='keep') for column in cat_cols]"
   ]
  },
  {
   "cell_type": "markdown",
   "metadata": {},
   "source": [
    "### Prepare Encoders."
   ]
  },
  {
   "cell_type": "code",
   "execution_count": 31,
   "metadata": {},
   "outputs": [],
   "source": [
    "encoders = [OneHotEncoder(\n",
    "    inputCol=column + '_index', \n",
    "    outputCol= column + '_encoded') for column in cat_cols]"
   ]
  },
  {
   "cell_type": "markdown",
   "metadata": {},
   "source": [
    "### Vector Assembler"
   ]
  },
  {
   "cell_type": "code",
   "execution_count": 32,
   "metadata": {},
   "outputs": [],
   "source": [
    "assembler = VectorAssembler(inputCols=requiredFeatures, outputCol='features')"
   ]
  },
  {
   "cell_type": "code",
   "execution_count": null,
   "metadata": {},
   "outputs": [],
   "source": []
  },
  {
   "cell_type": "code",
   "execution_count": null,
   "metadata": {},
   "outputs": [],
   "source": []
  },
  {
   "cell_type": "code",
   "execution_count": null,
   "metadata": {},
   "outputs": [],
   "source": []
  },
  {
   "cell_type": "markdown",
   "metadata": {},
   "source": [
    "## 6. Clustering"
   ]
  },
  {
   "cell_type": "markdown",
   "metadata": {},
   "source": [
    "### PCA"
   ]
  },
  {
   "cell_type": "code",
   "execution_count": 33,
   "metadata": {},
   "outputs": [],
   "source": [
    "pca = PCA(k=150, inputCol=\"features\", outputCol=\"pcaFeatures\")"
   ]
  },
  {
   "cell_type": "markdown",
   "metadata": {},
   "source": [
    "### KMeans Clustring"
   ]
  },
  {
   "cell_type": "code",
   "execution_count": 34,
   "metadata": {},
   "outputs": [],
   "source": [
    "kmeans = KMeans(k=6, seed=3).setFeaturesCol('pcaFeatures')"
   ]
  },
  {
   "cell_type": "markdown",
   "metadata": {},
   "source": [
    "### Transformation Pipeline"
   ]
  },
  {
   "cell_type": "code",
   "execution_count": 35,
   "metadata": {},
   "outputs": [],
   "source": [
    "pipeline = Pipeline(\n",
    "    stages=[regexTokenizer, stopWordsRemover, customStopWordsRemover, word2Vec] \\\n",
    "    + indexers + encoders  \\\n",
    "    + [assembler, pca, kmeans]\n",
    ")\n",
    "\n",
    "# Fit\n",
    "transformation_model = pipeline.fit(papersData.coalesce(1))\n",
    "\n",
    "# Transform\n",
    "transformedData = transformation_model.transform(papersData.coalesce(1))"
   ]
  },
  {
   "cell_type": "code",
   "execution_count": 36,
   "metadata": {},
   "outputs": [
    {
     "data": {
      "text/html": [
       "<div>\n",
       "<style scoped>\n",
       "    .dataframe tbody tr th:only-of-type {\n",
       "        vertical-align: middle;\n",
       "    }\n",
       "\n",
       "    .dataframe tbody tr th {\n",
       "        vertical-align: top;\n",
       "    }\n",
       "\n",
       "    .dataframe thead th {\n",
       "        text-align: right;\n",
       "    }\n",
       "</style>\n",
       "<table border=\"1\" class=\"dataframe\">\n",
       "  <thead>\n",
       "    <tr style=\"text-align: right;\">\n",
       "      <th></th>\n",
       "      <th>sha</th>\n",
       "      <th>source_x</th>\n",
       "      <th>license</th>\n",
       "      <th>journal</th>\n",
       "      <th>first_author</th>\n",
       "      <th>publish_year</th>\n",
       "      <th>publish_month</th>\n",
       "      <th>text</th>\n",
       "      <th>words</th>\n",
       "      <th>semi_filtered</th>\n",
       "      <th>...</th>\n",
       "      <th>license_index</th>\n",
       "      <th>journal_index</th>\n",
       "      <th>first_author_index</th>\n",
       "      <th>source_x_encoded</th>\n",
       "      <th>license_encoded</th>\n",
       "      <th>journal_encoded</th>\n",
       "      <th>first_author_encoded</th>\n",
       "      <th>features</th>\n",
       "      <th>pcaFeatures</th>\n",
       "      <th>prediction</th>\n",
       "    </tr>\n",
       "  </thead>\n",
       "  <tbody>\n",
       "    <tr>\n",
       "      <th>0</th>\n",
       "      <td>c6ca840f6c446c66396c06fc42401af987b88e5d</td>\n",
       "      <td>Elsevier; Medline; PMC</td>\n",
       "      <td>no-cc</td>\n",
       "      <td>Pharmacol Ther</td>\n",
       "      <td>Tundo, G.R.</td>\n",
       "      <td>2020</td>\n",
       "      <td>5</td>\n",
       "      <td>the proteasome as a druggable target with mult...</td>\n",
       "      <td>[the, proteasome, as, a, druggable, target, wi...</td>\n",
       "      <td>[proteasome, druggable, target, multiple, ther...</td>\n",
       "      <td>...</td>\n",
       "      <td>0.0</td>\n",
       "      <td>139.0</td>\n",
       "      <td>106.0</td>\n",
       "      <td>(0.0, 0.0, 0.0, 0.0, 1.0, 0.0, 0.0, 0.0, 0.0, ...</td>\n",
       "      <td>(1.0, 0.0, 0.0, 0.0, 0.0, 0.0, 0.0, 0.0, 0.0, ...</td>\n",
       "      <td>(0.0, 0.0, 0.0, 0.0, 0.0, 0.0, 0.0, 0.0, 0.0, ...</td>\n",
       "      <td>(0.0, 0.0, 0.0, 0.0, 0.0, 0.0, 0.0, 0.0, 0.0, ...</td>\n",
       "      <td>[2020.0, 5.0, 0.0, 0.0, 0.0, 0.0, 1.0, 0.0, 0....</td>\n",
       "      <td>[-226.8475492020473, -246.96081690275733, -376...</td>\n",
       "      <td>4</td>\n",
       "    </tr>\n",
       "    <tr>\n",
       "      <th>1</th>\n",
       "      <td>8255413c3d6cae0cd4a70c6000db8cc787837756</td>\n",
       "      <td>PMC</td>\n",
       "      <td>no-cc</td>\n",
       "      <td>Vox Sang</td>\n",
       "      <td>unknown</td>\n",
       "      <td>2019</td>\n",
       "      <td>6</td>\n",
       "      <td>abstract of 29th regional congress of the isbt...</td>\n",
       "      <td>[abstract, of, 29th, regional, congress, of, t...</td>\n",
       "      <td>[abstract, 29th, regional, congress, isbt, aus...</td>\n",
       "      <td>...</td>\n",
       "      <td>0.0</td>\n",
       "      <td>40.0</td>\n",
       "      <td>0.0</td>\n",
       "      <td>(0.0, 1.0, 0.0, 0.0, 0.0, 0.0, 0.0, 0.0, 0.0, ...</td>\n",
       "      <td>(1.0, 0.0, 0.0, 0.0, 0.0, 0.0, 0.0, 0.0, 0.0, ...</td>\n",
       "      <td>(0.0, 0.0, 0.0, 0.0, 0.0, 0.0, 0.0, 0.0, 0.0, ...</td>\n",
       "      <td>(1.0, 0.0, 0.0, 0.0, 0.0, 0.0, 0.0, 0.0, 0.0, ...</td>\n",
       "      <td>[2019.0, 6.0, 0.0, 1.0, 0.0, 0.0, 0.0, 0.0, 0....</td>\n",
       "      <td>[-225.72161352458542, -246.79218159540397, -37...</td>\n",
       "      <td>4</td>\n",
       "    </tr>\n",
       "    <tr>\n",
       "      <th>2</th>\n",
       "      <td>d280fe9f961472d75fa98a10f73bb373d418905e</td>\n",
       "      <td>Elsevier; Medline; PMC; WHO</td>\n",
       "      <td>no-cc</td>\n",
       "      <td>Virus Res</td>\n",
       "      <td>Mani, Janice S.</td>\n",
       "      <td>2020</td>\n",
       "      <td>4</td>\n",
       "      <td>natural product-derived phytochemicals as pote...</td>\n",
       "      <td>[natural, product, derived, phytochemicals, as...</td>\n",
       "      <td>[natural, product, derived, phytochemicals, po...</td>\n",
       "      <td>...</td>\n",
       "      <td>0.0</td>\n",
       "      <td>45.0</td>\n",
       "      <td>213.0</td>\n",
       "      <td>(0.0, 0.0, 1.0, 0.0, 0.0, 0.0, 0.0, 0.0, 0.0, ...</td>\n",
       "      <td>(1.0, 0.0, 0.0, 0.0, 0.0, 0.0, 0.0, 0.0, 0.0, ...</td>\n",
       "      <td>(0.0, 0.0, 0.0, 0.0, 0.0, 0.0, 0.0, 0.0, 0.0, ...</td>\n",
       "      <td>(0.0, 0.0, 0.0, 0.0, 0.0, 0.0, 0.0, 0.0, 0.0, ...</td>\n",
       "      <td>[2020.0, 4.0, 0.0, 0.0, 1.0, 0.0, 0.0, 0.0, 0....</td>\n",
       "      <td>[-227.84350405916956, -246.87223042908147, -37...</td>\n",
       "      <td>5</td>\n",
       "    </tr>\n",
       "    <tr>\n",
       "      <th>3</th>\n",
       "      <td>4a756653f012e5505ec536a77281bdb663d708a1</td>\n",
       "      <td>Elsevier; Medline; PMC; WHO</td>\n",
       "      <td>els-covid</td>\n",
       "      <td>Dev Cell</td>\n",
       "      <td>Smith, Joan C.</td>\n",
       "      <td>2020</td>\n",
       "      <td>5</td>\n",
       "      <td>cigarette smoke exposure and inflammatory sign...</td>\n",
       "      <td>[cigarette, smoke, exposure, and, inflammatory...</td>\n",
       "      <td>[cigarette, smoke, exposure, inflammatory, sig...</td>\n",
       "      <td>...</td>\n",
       "      <td>1.0</td>\n",
       "      <td>47.0</td>\n",
       "      <td>33.0</td>\n",
       "      <td>(0.0, 0.0, 1.0, 0.0, 0.0, 0.0, 0.0, 0.0, 0.0, ...</td>\n",
       "      <td>(0.0, 1.0, 0.0, 0.0, 0.0, 0.0, 0.0, 0.0, 0.0, ...</td>\n",
       "      <td>(0.0, 0.0, 0.0, 0.0, 0.0, 0.0, 0.0, 0.0, 0.0, ...</td>\n",
       "      <td>(0.0, 0.0, 0.0, 0.0, 0.0, 0.0, 0.0, 0.0, 0.0, ...</td>\n",
       "      <td>[2020.0, 5.0, 0.0, 0.0, 1.0, 0.0, 0.0, 0.0, 0....</td>\n",
       "      <td>[-226.8255238453388, -247.31782886602758, -377...</td>\n",
       "      <td>4</td>\n",
       "    </tr>\n",
       "    <tr>\n",
       "      <th>4</th>\n",
       "      <td>c503d80fc5c84fd80cf58116c604ccf56f5d6178</td>\n",
       "      <td>Elsevier; PMC</td>\n",
       "      <td>no-cc</td>\n",
       "      <td>Prog Mol Biol Transl Sci</td>\n",
       "      <td>Yuan, Lijuan</td>\n",
       "      <td>2020</td>\n",
       "      <td>4</td>\n",
       "      <td>microbiota in viral infection and disease in h...</td>\n",
       "      <td>[microbiota, in, viral, infection, and, diseas...</td>\n",
       "      <td>[microbiota, viral, infection, disease, humans...</td>\n",
       "      <td>...</td>\n",
       "      <td>0.0</td>\n",
       "      <td>71.0</td>\n",
       "      <td>91.0</td>\n",
       "      <td>(0.0, 0.0, 0.0, 0.0, 0.0, 0.0, 0.0, 0.0, 1.0, ...</td>\n",
       "      <td>(1.0, 0.0, 0.0, 0.0, 0.0, 0.0, 0.0, 0.0, 0.0, ...</td>\n",
       "      <td>(0.0, 0.0, 0.0, 0.0, 0.0, 0.0, 0.0, 0.0, 0.0, ...</td>\n",
       "      <td>(0.0, 0.0, 0.0, 0.0, 0.0, 0.0, 0.0, 0.0, 0.0, ...</td>\n",
       "      <td>[2020.0, 4.0, 0.0, 0.0, 0.0, 0.0, 0.0, 0.0, 0....</td>\n",
       "      <td>[-227.81664977735176, -246.9930598068454, -375...</td>\n",
       "      <td>5</td>\n",
       "    </tr>\n",
       "  </tbody>\n",
       "</table>\n",
       "<p>5 rows × 23 columns</p>\n",
       "</div>"
      ],
      "text/plain": [
       "                                        sha                     source_x  \\\n",
       "0  c6ca840f6c446c66396c06fc42401af987b88e5d       Elsevier; Medline; PMC   \n",
       "1  8255413c3d6cae0cd4a70c6000db8cc787837756                          PMC   \n",
       "2  d280fe9f961472d75fa98a10f73bb373d418905e  Elsevier; Medline; PMC; WHO   \n",
       "3  4a756653f012e5505ec536a77281bdb663d708a1  Elsevier; Medline; PMC; WHO   \n",
       "4  c503d80fc5c84fd80cf58116c604ccf56f5d6178                Elsevier; PMC   \n",
       "\n",
       "     license                   journal     first_author  publish_year  \\\n",
       "0      no-cc            Pharmacol Ther      Tundo, G.R.          2020   \n",
       "1      no-cc                  Vox Sang          unknown          2019   \n",
       "2      no-cc                 Virus Res  Mani, Janice S.          2020   \n",
       "3  els-covid                  Dev Cell   Smith, Joan C.          2020   \n",
       "4      no-cc  Prog Mol Biol Transl Sci     Yuan, Lijuan          2020   \n",
       "\n",
       "   publish_month                                               text  \\\n",
       "0              5  the proteasome as a druggable target with mult...   \n",
       "1              6  abstract of 29th regional congress of the isbt...   \n",
       "2              4  natural product-derived phytochemicals as pote...   \n",
       "3              5  cigarette smoke exposure and inflammatory sign...   \n",
       "4              4  microbiota in viral infection and disease in h...   \n",
       "\n",
       "                                               words  \\\n",
       "0  [the, proteasome, as, a, druggable, target, wi...   \n",
       "1  [abstract, of, 29th, regional, congress, of, t...   \n",
       "2  [natural, product, derived, phytochemicals, as...   \n",
       "3  [cigarette, smoke, exposure, and, inflammatory...   \n",
       "4  [microbiota, in, viral, infection, and, diseas...   \n",
       "\n",
       "                                       semi_filtered  ... license_index  \\\n",
       "0  [proteasome, druggable, target, multiple, ther...  ...           0.0   \n",
       "1  [abstract, 29th, regional, congress, isbt, aus...  ...           0.0   \n",
       "2  [natural, product, derived, phytochemicals, po...  ...           0.0   \n",
       "3  [cigarette, smoke, exposure, inflammatory, sig...  ...           1.0   \n",
       "4  [microbiota, viral, infection, disease, humans...  ...           0.0   \n",
       "\n",
       "  journal_index  first_author_index  \\\n",
       "0         139.0               106.0   \n",
       "1          40.0                 0.0   \n",
       "2          45.0               213.0   \n",
       "3          47.0                33.0   \n",
       "4          71.0                91.0   \n",
       "\n",
       "                                    source_x_encoded  \\\n",
       "0  (0.0, 0.0, 0.0, 0.0, 1.0, 0.0, 0.0, 0.0, 0.0, ...   \n",
       "1  (0.0, 1.0, 0.0, 0.0, 0.0, 0.0, 0.0, 0.0, 0.0, ...   \n",
       "2  (0.0, 0.0, 1.0, 0.0, 0.0, 0.0, 0.0, 0.0, 0.0, ...   \n",
       "3  (0.0, 0.0, 1.0, 0.0, 0.0, 0.0, 0.0, 0.0, 0.0, ...   \n",
       "4  (0.0, 0.0, 0.0, 0.0, 0.0, 0.0, 0.0, 0.0, 1.0, ...   \n",
       "\n",
       "                                     license_encoded  \\\n",
       "0  (1.0, 0.0, 0.0, 0.0, 0.0, 0.0, 0.0, 0.0, 0.0, ...   \n",
       "1  (1.0, 0.0, 0.0, 0.0, 0.0, 0.0, 0.0, 0.0, 0.0, ...   \n",
       "2  (1.0, 0.0, 0.0, 0.0, 0.0, 0.0, 0.0, 0.0, 0.0, ...   \n",
       "3  (0.0, 1.0, 0.0, 0.0, 0.0, 0.0, 0.0, 0.0, 0.0, ...   \n",
       "4  (1.0, 0.0, 0.0, 0.0, 0.0, 0.0, 0.0, 0.0, 0.0, ...   \n",
       "\n",
       "                                     journal_encoded  \\\n",
       "0  (0.0, 0.0, 0.0, 0.0, 0.0, 0.0, 0.0, 0.0, 0.0, ...   \n",
       "1  (0.0, 0.0, 0.0, 0.0, 0.0, 0.0, 0.0, 0.0, 0.0, ...   \n",
       "2  (0.0, 0.0, 0.0, 0.0, 0.0, 0.0, 0.0, 0.0, 0.0, ...   \n",
       "3  (0.0, 0.0, 0.0, 0.0, 0.0, 0.0, 0.0, 0.0, 0.0, ...   \n",
       "4  (0.0, 0.0, 0.0, 0.0, 0.0, 0.0, 0.0, 0.0, 0.0, ...   \n",
       "\n",
       "                                first_author_encoded  \\\n",
       "0  (0.0, 0.0, 0.0, 0.0, 0.0, 0.0, 0.0, 0.0, 0.0, ...   \n",
       "1  (1.0, 0.0, 0.0, 0.0, 0.0, 0.0, 0.0, 0.0, 0.0, ...   \n",
       "2  (0.0, 0.0, 0.0, 0.0, 0.0, 0.0, 0.0, 0.0, 0.0, ...   \n",
       "3  (0.0, 0.0, 0.0, 0.0, 0.0, 0.0, 0.0, 0.0, 0.0, ...   \n",
       "4  (0.0, 0.0, 0.0, 0.0, 0.0, 0.0, 0.0, 0.0, 0.0, ...   \n",
       "\n",
       "                                            features  \\\n",
       "0  [2020.0, 5.0, 0.0, 0.0, 0.0, 0.0, 1.0, 0.0, 0....   \n",
       "1  [2019.0, 6.0, 0.0, 1.0, 0.0, 0.0, 0.0, 0.0, 0....   \n",
       "2  [2020.0, 4.0, 0.0, 0.0, 1.0, 0.0, 0.0, 0.0, 0....   \n",
       "3  [2020.0, 5.0, 0.0, 0.0, 1.0, 0.0, 0.0, 0.0, 0....   \n",
       "4  [2020.0, 4.0, 0.0, 0.0, 0.0, 0.0, 0.0, 0.0, 0....   \n",
       "\n",
       "                                         pcaFeatures prediction  \n",
       "0  [-226.8475492020473, -246.96081690275733, -376...          4  \n",
       "1  [-225.72161352458542, -246.79218159540397, -37...          4  \n",
       "2  [-227.84350405916956, -246.87223042908147, -37...          5  \n",
       "3  [-226.8255238453388, -247.31782886602758, -377...          4  \n",
       "4  [-227.81664977735176, -246.9930598068454, -375...          5  \n",
       "\n",
       "[5 rows x 23 columns]"
      ]
     },
     "execution_count": 36,
     "metadata": {},
     "output_type": "execute_result"
    }
   ],
   "source": [
    "transformedData.toPandas().head()"
   ]
  },
  {
   "cell_type": "code",
   "execution_count": null,
   "metadata": {},
   "outputs": [],
   "source": []
  },
  {
   "cell_type": "code",
   "execution_count": null,
   "metadata": {},
   "outputs": [],
   "source": []
  },
  {
   "cell_type": "code",
   "execution_count": null,
   "metadata": {},
   "outputs": [],
   "source": []
  },
  {
   "cell_type": "markdown",
   "metadata": {},
   "source": [
    "## 7. Evaluation "
   ]
  },
  {
   "cell_type": "markdown",
   "metadata": {},
   "source": [
    "### PCA  "
   ]
  },
  {
   "cell_type": "code",
   "execution_count": 37,
   "metadata": {},
   "outputs": [
    {
     "data": {
      "text/plain": [
       "0.9587693226867376"
      ]
     },
     "execution_count": 37,
     "metadata": {},
     "output_type": "execute_result"
    }
   ],
   "source": [
    "pca_test = PCA(k=150, inputCol=\"features\", outputCol=\"pcaFeatures_test\")\n",
    "pca_model = pca_test.fit(transformedData)\n",
    "pca_model.explainedVariance.sum()"
   ]
  },
  {
   "cell_type": "markdown",
   "metadata": {},
   "source": [
    "### Clustring"
   ]
  },
  {
   "cell_type": "code",
   "execution_count": 38,
   "metadata": {},
   "outputs": [
    {
     "data": {
      "text/html": [
       "<div>\n",
       "<style scoped>\n",
       "    .dataframe tbody tr th:only-of-type {\n",
       "        vertical-align: middle;\n",
       "    }\n",
       "\n",
       "    .dataframe tbody tr th {\n",
       "        vertical-align: top;\n",
       "    }\n",
       "\n",
       "    .dataframe thead th {\n",
       "        text-align: right;\n",
       "    }\n",
       "</style>\n",
       "<table border=\"1\" class=\"dataframe\">\n",
       "  <thead>\n",
       "    <tr style=\"text-align: right;\">\n",
       "      <th></th>\n",
       "      <th>prediction</th>\n",
       "      <th>count</th>\n",
       "    </tr>\n",
       "  </thead>\n",
       "  <tbody>\n",
       "    <tr>\n",
       "      <th>0</th>\n",
       "      <td>4</td>\n",
       "      <td>54</td>\n",
       "    </tr>\n",
       "    <tr>\n",
       "      <th>1</th>\n",
       "      <td>5</td>\n",
       "      <td>26</td>\n",
       "    </tr>\n",
       "    <tr>\n",
       "      <th>2</th>\n",
       "      <td>2</td>\n",
       "      <td>76</td>\n",
       "    </tr>\n",
       "    <tr>\n",
       "      <th>3</th>\n",
       "      <td>1</td>\n",
       "      <td>44</td>\n",
       "    </tr>\n",
       "    <tr>\n",
       "      <th>4</th>\n",
       "      <td>0</td>\n",
       "      <td>20</td>\n",
       "    </tr>\n",
       "  </tbody>\n",
       "</table>\n",
       "</div>"
      ],
      "text/plain": [
       "   prediction  count\n",
       "0           4     54\n",
       "1           5     26\n",
       "2           2     76\n",
       "3           1     44\n",
       "4           0     20"
      ]
     },
     "execution_count": 38,
     "metadata": {},
     "output_type": "execute_result"
    }
   ],
   "source": [
    "transformedData.groupBy('prediction').count().toPandas().head()"
   ]
  },
  {
   "cell_type": "markdown",
   "metadata": {},
   "source": [
    "#### Silhouette evaluation"
   ]
  },
  {
   "cell_type": "code",
   "execution_count": 39,
   "metadata": {},
   "outputs": [
    {
     "name": "stdout",
     "output_type": "stream",
     "text": [
      "Silhouette with squared euclidean distance =  0.18475479285900917\n"
     ]
    }
   ],
   "source": [
    "from pyspark.ml.evaluation import ClusteringEvaluator\n",
    "\n",
    "evaluator = ClusteringEvaluator(featuresCol='pcaFeatures')\n",
    "silhouette = evaluator.evaluate(transformedData)\n",
    "print('Silhouette with squared euclidean distance = ', silhouette)"
   ]
  },
  {
   "cell_type": "markdown",
   "metadata": {},
   "source": [
    "#### Choose number of clusters k"
   ]
  },
  {
   "cell_type": "markdown",
   "metadata": {},
   "source": [
    "##### Elbow method"
   ]
  },
  {
   "cell_type": "code",
   "execution_count": 40,
   "metadata": {},
   "outputs": [
    {
     "data": {
      "image/png": "[encoded data removed]",
      "text/plain": [
       "<Figure size 432x288 with 1 Axes>"
      ]
     },
     "metadata": {
      "needs_background": "light"
     },
     "output_type": "display_data"
    }
   ],
   "source": [
    "# Calculate cost and plot\n",
    "\n",
    "cost = np.zeros(10)\n",
    "\n",
    "for k in range(2,10):\n",
    "    kmeans_test = KMeans(k=k, seed=3, featuresCol='pcaFeatures', predictionCol='prediction_test')\n",
    "    model_test = kmeans_test.fit(transformedData)\n",
    "    cost[k] = model_test.computeCost(transformedData)\n",
    "\n",
    "# Plot the cost\n",
    "df_cost = pd.DataFrame(cost[2:])\n",
    "df_cost.columns = [\"cost\"]\n",
    "new_col = [2,3,4,5,6,7,8,9]\n",
    "df_cost.insert(0, 'cluster', new_col)\n",
    "\n",
    "\n",
    "pl.plot(df_cost.cluster, df_cost.cost)\n",
    "pl.xlabel('Number of Clusters')\n",
    "pl.ylabel('Score')\n",
    "pl.title('Elbow Curve')\n",
    "pl.show()"
   ]
  },
  {
   "cell_type": "markdown",
   "metadata": {},
   "source": [
    "##### Silhouette method"
   ]
  },
  {
   "cell_type": "code",
   "execution_count": 44,
   "metadata": {},
   "outputs": [
    {
     "data": {
      "image/png": "[encoded data removed]",
      "text/plain": [
       "<Figure size 432x288 with 1 Axes>"
      ]
     },
     "metadata": {
      "needs_background": "light"
     },
     "output_type": "display_data"
    }
   ],
   "source": [
    "cost = np.zeros(10)\n",
    "\n",
    "for k in range(2,10):\n",
    "    kmeans_test = KMeans(k=k, seed=3, featuresCol='pcaFeatures', predictionCol='prediction_test')\n",
    "    model_test = kmeans_test.fit(transformedData)\n",
    "    clusteredData = model_test.transform(transformedData)\n",
    "    evaluator = ClusteringEvaluator(featuresCol='pcaFeatures', predictionCol='prediction_test')\n",
    "    cost[k] = evaluator.evaluate(clusteredData)\n",
    "\n",
    "# Plot the cost\n",
    "df_cost = pd.DataFrame(cost[2:])\n",
    "df_cost.columns = [\"cost\"]\n",
    "new_col = [2,3,4,5,6,7,8,9]\n",
    "df_cost.insert(0, 'cluster', new_col)\n",
    "\n",
    "pl.plot(df_cost.cluster, df_cost.cost)\n",
    "pl.xlabel('Number of Clusters')\n",
    "pl.ylabel('Score')\n",
    "pl.title('Silhoutee curve')\n",
    "pl.show()"
   ]
  },
  {
   "cell_type": "code",
   "execution_count": null,
   "metadata": {},
   "outputs": [],
   "source": []
  },
  {
   "cell_type": "markdown",
   "metadata": {},
   "source": [
    "## Unpersist the persisted DF and end spark session"
   ]
  },
  {
   "cell_type": "code",
   "execution_count": 46,
   "metadata": {},
   "outputs": [],
   "source": [
    "# papersData.unpersist()\n",
    "# spark.stop()"
   ]
  }
 ],
 "metadata": {
  "kernelspec": {
   "display_name": "Python 3",
   "language": "python",
   "name": "python3"
  },
  "language_info": {
   "codemirror_mode": {
    "name": "ipython",
    "version": 3
   },
   "file_extension": ".py",
   "mimetype": "text/x-python",
   "name": "python",
   "nbconvert_exporter": "python",
   "pygments_lexer": "ipython3",
   "version": "3.7.6"
  }
 },
 "nbformat": 4,
 "nbformat_minor": 4
}
